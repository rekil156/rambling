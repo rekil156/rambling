{
  "nbformat": 4,
  "nbformat_minor": 0,
  "metadata": {
    "colab": {
      "name": "Untitled8.ipynb",
      "provenance": [],
      "collapsed_sections": [
        "dFM_gu2TxPJD"
      ]
    },
    "kernelspec": {
      "name": "python3",
      "display_name": "Python 3"
    },
    "widgets": {
      "application/vnd.jupyter.widget-state+json": {
        "bed8147a1f0a4ddcbb5d46d5f8a778b7": {
          "model_module": "@jupyter-widgets/controls",
          "model_name": "HBoxModel",
          "state": {
            "_view_name": "HBoxView",
            "_dom_classes": [],
            "_model_name": "HBoxModel",
            "_view_module": "@jupyter-widgets/controls",
            "_model_module_version": "1.5.0",
            "_view_count": null,
            "_view_module_version": "1.5.0",
            "box_style": "",
            "layout": "IPY_MODEL_27702d382dcb4feca45ade6efac024d1",
            "_model_module": "@jupyter-widgets/controls",
            "children": [
              "IPY_MODEL_6749a211310c4ff5ac0d767bacf1342a",
              "IPY_MODEL_7137504660da47faacb76ac0437c0857"
            ]
          }
        },
        "27702d382dcb4feca45ade6efac024d1": {
          "model_module": "@jupyter-widgets/base",
          "model_name": "LayoutModel",
          "state": {
            "_view_name": "LayoutView",
            "grid_template_rows": null,
            "right": null,
            "justify_content": null,
            "_view_module": "@jupyter-widgets/base",
            "overflow": null,
            "_model_module_version": "1.2.0",
            "_view_count": null,
            "flex_flow": null,
            "width": null,
            "min_width": null,
            "border": null,
            "align_items": null,
            "bottom": null,
            "_model_module": "@jupyter-widgets/base",
            "top": null,
            "grid_column": null,
            "overflow_y": null,
            "overflow_x": null,
            "grid_auto_flow": null,
            "grid_area": null,
            "grid_template_columns": null,
            "flex": null,
            "_model_name": "LayoutModel",
            "justify_items": null,
            "grid_row": null,
            "max_height": null,
            "align_content": null,
            "visibility": null,
            "align_self": null,
            "height": null,
            "min_height": null,
            "padding": null,
            "grid_auto_rows": null,
            "grid_gap": null,
            "max_width": null,
            "order": null,
            "_view_module_version": "1.2.0",
            "grid_template_areas": null,
            "object_position": null,
            "object_fit": null,
            "grid_auto_columns": null,
            "margin": null,
            "display": null,
            "left": null
          }
        },
        "6749a211310c4ff5ac0d767bacf1342a": {
          "model_module": "@jupyter-widgets/controls",
          "model_name": "IntProgressModel",
          "state": {
            "_view_name": "ProgressView",
            "style": "IPY_MODEL_1795d40615194facaa1c67852b6611ff",
            "_dom_classes": [],
            "description": "100%",
            "_model_name": "IntProgressModel",
            "bar_style": "success",
            "max": 46827520,
            "_view_module": "@jupyter-widgets/controls",
            "_model_module_version": "1.5.0",
            "value": 46827520,
            "_view_count": null,
            "_view_module_version": "1.5.0",
            "orientation": "horizontal",
            "min": 0,
            "description_tooltip": null,
            "_model_module": "@jupyter-widgets/controls",
            "layout": "IPY_MODEL_82c24e370aff4425ab2b5cadffd94a6e"
          }
        },
        "7137504660da47faacb76ac0437c0857": {
          "model_module": "@jupyter-widgets/controls",
          "model_name": "HTMLModel",
          "state": {
            "_view_name": "HTMLView",
            "style": "IPY_MODEL_c1d4ff4a1de345868d51d7faa701ed0a",
            "_dom_classes": [],
            "description": "",
            "_model_name": "HTMLModel",
            "placeholder": "​",
            "_view_module": "@jupyter-widgets/controls",
            "_model_module_version": "1.5.0",
            "value": " 44.7M/44.7M [00:00&lt;00:00, 150MB/s]",
            "_view_count": null,
            "_view_module_version": "1.5.0",
            "description_tooltip": null,
            "_model_module": "@jupyter-widgets/controls",
            "layout": "IPY_MODEL_01c89d4f76704ab4b9813d726b4e66a9"
          }
        },
        "1795d40615194facaa1c67852b6611ff": {
          "model_module": "@jupyter-widgets/controls",
          "model_name": "ProgressStyleModel",
          "state": {
            "_view_name": "StyleView",
            "_model_name": "ProgressStyleModel",
            "description_width": "initial",
            "_view_module": "@jupyter-widgets/base",
            "_model_module_version": "1.5.0",
            "_view_count": null,
            "_view_module_version": "1.2.0",
            "bar_color": null,
            "_model_module": "@jupyter-widgets/controls"
          }
        },
        "82c24e370aff4425ab2b5cadffd94a6e": {
          "model_module": "@jupyter-widgets/base",
          "model_name": "LayoutModel",
          "state": {
            "_view_name": "LayoutView",
            "grid_template_rows": null,
            "right": null,
            "justify_content": null,
            "_view_module": "@jupyter-widgets/base",
            "overflow": null,
            "_model_module_version": "1.2.0",
            "_view_count": null,
            "flex_flow": null,
            "width": null,
            "min_width": null,
            "border": null,
            "align_items": null,
            "bottom": null,
            "_model_module": "@jupyter-widgets/base",
            "top": null,
            "grid_column": null,
            "overflow_y": null,
            "overflow_x": null,
            "grid_auto_flow": null,
            "grid_area": null,
            "grid_template_columns": null,
            "flex": null,
            "_model_name": "LayoutModel",
            "justify_items": null,
            "grid_row": null,
            "max_height": null,
            "align_content": null,
            "visibility": null,
            "align_self": null,
            "height": null,
            "min_height": null,
            "padding": null,
            "grid_auto_rows": null,
            "grid_gap": null,
            "max_width": null,
            "order": null,
            "_view_module_version": "1.2.0",
            "grid_template_areas": null,
            "object_position": null,
            "object_fit": null,
            "grid_auto_columns": null,
            "margin": null,
            "display": null,
            "left": null
          }
        },
        "c1d4ff4a1de345868d51d7faa701ed0a": {
          "model_module": "@jupyter-widgets/controls",
          "model_name": "DescriptionStyleModel",
          "state": {
            "_view_name": "StyleView",
            "_model_name": "DescriptionStyleModel",
            "description_width": "",
            "_view_module": "@jupyter-widgets/base",
            "_model_module_version": "1.5.0",
            "_view_count": null,
            "_view_module_version": "1.2.0",
            "_model_module": "@jupyter-widgets/controls"
          }
        },
        "01c89d4f76704ab4b9813d726b4e66a9": {
          "model_module": "@jupyter-widgets/base",
          "model_name": "LayoutModel",
          "state": {
            "_view_name": "LayoutView",
            "grid_template_rows": null,
            "right": null,
            "justify_content": null,
            "_view_module": "@jupyter-widgets/base",
            "overflow": null,
            "_model_module_version": "1.2.0",
            "_view_count": null,
            "flex_flow": null,
            "width": null,
            "min_width": null,
            "border": null,
            "align_items": null,
            "bottom": null,
            "_model_module": "@jupyter-widgets/base",
            "top": null,
            "grid_column": null,
            "overflow_y": null,
            "overflow_x": null,
            "grid_auto_flow": null,
            "grid_area": null,
            "grid_template_columns": null,
            "flex": null,
            "_model_name": "LayoutModel",
            "justify_items": null,
            "grid_row": null,
            "max_height": null,
            "align_content": null,
            "visibility": null,
            "align_self": null,
            "height": null,
            "min_height": null,
            "padding": null,
            "grid_auto_rows": null,
            "grid_gap": null,
            "max_width": null,
            "order": null,
            "_view_module_version": "1.2.0",
            "grid_template_areas": null,
            "object_position": null,
            "object_fit": null,
            "grid_auto_columns": null,
            "margin": null,
            "display": null,
            "left": null
          }
        }
      }
    }
  },
  "cells": [
    {
      "cell_type": "code",
      "metadata": {
        "id": "5lra-tWDkTk3",
        "colab_type": "code",
        "colab": {}
      },
      "source": [
        "!pip install fastai2 -q"
      ],
      "execution_count": 0,
      "outputs": []
    },
    {
      "cell_type": "code",
      "metadata": {
        "id": "ENT_UoekkleU",
        "colab_type": "code",
        "colab": {}
      },
      "source": [
        "from fastai2.vision.all import *"
      ],
      "execution_count": 0,
      "outputs": []
    },
    {
      "cell_type": "markdown",
      "metadata": {
        "id": "SNib-gm-k48L",
        "colab_type": "text"
      },
      "source": [
        "This mainly contains the different ways we can use the POWERFUL DATABLOCKS api to bring in data.   \n",
        "Download the dataset and give it try. There are a few ways to do this so the ways i have done it may not be the only way (and not the best way ).  \n",
        "In the `more` you can see where the whole solution ie `datablocks + learner` code is available.  \n",
        "[First resourse to checkout are the tutorials](https://github.com/fastai/fastai2/blob/master/nbs/50_tutorial.datablock.ipynb)"
      ]
    },
    {
      "cell_type": "markdown",
      "metadata": {
        "id": "ESGdyzqUqZpB",
        "colab_type": "text"
      },
      "source": [
        "Curretly we'll focus on how how we can use source(paths or dfs) and set out get_x, get_y, get_items.  \n",
        "Splitters and Item/Batch Tfms - will update later"
      ]
    },
    {
      "cell_type": "markdown",
      "metadata": {
        "id": "hxb_a4Qekr7n",
        "colab_type": "text"
      },
      "source": [
        "# Classification"
      ]
    },
    {
      "cell_type": "markdown",
      "metadata": {
        "id": "ihL_2Ge6kvHM",
        "colab_type": "text"
      },
      "source": [
        "## Single label classification   \n",
        "(ImageBlock(cls=PILImageBW), CategoryBlock"
      ]
    },
    {
      "cell_type": "code",
      "metadata": {
        "id": "UL-WuxijHncQ",
        "colab_type": "code",
        "colab": {
          "base_uri": "https://localhost:8080/",
          "height": 34
        },
        "outputId": "8ab219ce-176a-44c6-b87f-62d5a8b4e951"
      },
      "source": [
        "path = untar_data(URLs.MNIST_TINY)\n",
        "!ls {path}"
      ],
      "execution_count": 8,
      "outputs": [
        {
          "output_type": "stream",
          "text": [
            "labels.csv  models  test  train  valid\n"
          ],
          "name": "stdout"
        }
      ]
    },
    {
      "cell_type": "code",
      "metadata": {
        "id": "OI-CMUxfpSM6",
        "colab_type": "code",
        "colab": {
          "base_uri": "https://localhost:8080/",
          "height": 111
        },
        "outputId": "1e0902d6-b689-45ee-a60d-260b87faf56d"
      },
      "source": [
        "df = pd.read_csv(path/'labels.csv')\n",
        "df.head(2)"
      ],
      "execution_count": 15,
      "outputs": [
        {
          "output_type": "execute_result",
          "data": {
            "text/html": [
              "<div>\n",
              "<style scoped>\n",
              "    .dataframe tbody tr th:only-of-type {\n",
              "        vertical-align: middle;\n",
              "    }\n",
              "\n",
              "    .dataframe tbody tr th {\n",
              "        vertical-align: top;\n",
              "    }\n",
              "\n",
              "    .dataframe thead th {\n",
              "        text-align: right;\n",
              "    }\n",
              "</style>\n",
              "<table border=\"1\" class=\"dataframe\">\n",
              "  <thead>\n",
              "    <tr style=\"text-align: right;\">\n",
              "      <th></th>\n",
              "      <th>name</th>\n",
              "      <th>label</th>\n",
              "    </tr>\n",
              "  </thead>\n",
              "  <tbody>\n",
              "    <tr>\n",
              "      <th>0</th>\n",
              "      <td>train/3/7463.png</td>\n",
              "      <td>3</td>\n",
              "    </tr>\n",
              "    <tr>\n",
              "      <th>1</th>\n",
              "      <td>train/3/9829.png</td>\n",
              "      <td>3</td>\n",
              "    </tr>\n",
              "  </tbody>\n",
              "</table>\n",
              "</div>"
            ],
            "text/plain": [
              "               name  label\n",
              "0  train/3/7463.png      3\n",
              "1  train/3/9829.png      3"
            ]
          },
          "metadata": {
            "tags": []
          },
          "execution_count": 15
        }
      ]
    },
    {
      "cell_type": "code",
      "metadata": {
        "id": "o61Lf4osrlVo",
        "colab_type": "code",
        "colab": {
          "base_uri": "https://localhost:8080/",
          "height": 199
        },
        "outputId": "7dcb5527-38f9-4cc4-ea43-52fc63e339f3"
      },
      "source": [
        "mnist = DataBlock(blocks=(ImageBlock(cls=PILImageBW), CategoryBlock),\n",
        "                  get_x=ColReader(0, pref=f'{path}/'),\n",
        "                  get_y=ColReader(1),\n",
        "                  splitter =RandomSplitter(),\n",
        "                  item_tfms = [CropPad(34),RandomCrop(28)],\n",
        "                  batch_tfms = [Normalize()],\n",
        "                  )\n",
        "dl = mnist.dataloaders(df)\n",
        "dl.show_batch(max_n=2)"
      ],
      "execution_count": 50,
      "outputs": [
        {
          "output_type": "display_data",
          "data": {
            "image/png": "[encoded data removed]",
            "text/plain": [
              "<Figure size 432x216 with 2 Axes>"
            ]
          },
          "metadata": {
            "tags": []
          }
        }
      ]
    },
    {
      "cell_type": "markdown",
      "metadata": {
        "id": "dFM_gu2TxPJD",
        "colab_type": "text"
      },
      "source": [
        "### Experiments, high level understanding"
      ]
    },
    {
      "cell_type": "markdown",
      "metadata": {
        "id": "kyDQmY6dvCry",
        "colab_type": "text"
      },
      "source": [
        "1) Let's change `ImageBlock(cls=PILImageBW)` to `ImageBlock()`"
      ]
    },
    {
      "cell_type": "code",
      "metadata": {
        "id": "NtEYL0CGu5mH",
        "colab_type": "code",
        "colab": {
          "base_uri": "https://localhost:8080/",
          "height": 199
        },
        "outputId": "9c854e8f-816e-46dc-bd88-30600536e900"
      },
      "source": [
        "mnist = DataBlock(blocks=(ImageBlock(), CategoryBlock),\n",
        "                  get_x=ColReader(0, pref=f'{path}/'),\n",
        "                  get_y=ColReader(1),\n",
        "                  splitter =RandomSplitter(),\n",
        "                  item_tfms = [CropPad(34),RandomCrop(28)],\n",
        "                  batch_tfms = [Normalize()],\n",
        "                  )\n",
        "dls = mnist.dataloaders(df)\n",
        "dls.show_batch(max_n=2)"
      ],
      "execution_count": 51,
      "outputs": [
        {
          "output_type": "display_data",
          "data": {
            "image/png": "[encoded data removed]",
            "text/plain": [
              "<Figure size 432x216 with 2 Axes>"
            ]
          },
          "metadata": {
            "tags": []
          }
        }
      ]
    },
    {
      "cell_type": "markdown",
      "metadata": {
        "id": "z1XCtneGvS7t",
        "colab_type": "text"
      },
      "source": [
        "Wow that seems to work too.We see '3' and '7'\n",
        "Hang on it looks different though, the colors are inverted.  \n",
        "TODO:This shouldn't effect the training of the model(haven't tried it out).   \n",
        "Let's look at ImageBlock. (??ImageBlock)\n",
        "```\n",
        "def ImageBlock(cls=PILImage):\n",
        "    \"A `TransformBlock` for images of `cls`\"\n",
        "    return TransformBlock(type_tfms=cls.create, batch_tfms=IntToFloatTensor)\n",
        "```\n",
        "The default cls is PILImage which is an RGB image. For single channel images you want to pass cls=PILImageBW. Later we'll see how we pass in a 4-channel image.\n",
        "Other thing to notice in the code is `batch_tfms=IntToFloatTensor`, we'll discuss that shortly."
      ]
    },
    {
      "cell_type": "markdown",
      "metadata": {
        "id": "7OsOnH7iyAxp",
        "colab_type": "text"
      },
      "source": [
        "2) Change CategoryBlock to  CategoryBlock()"
      ]
    },
    {
      "cell_type": "code",
      "metadata": {
        "id": "_yB2rMZ4vSPx",
        "colab_type": "code",
        "colab": {
          "base_uri": "https://localhost:8080/",
          "height": 199
        },
        "outputId": "e6f7b014-3443-4b38-f40a-b754f23b69c9"
      },
      "source": [
        "mnist = DataBlock(blocks=(ImageBlock(cls=PILImageBW), CategoryBlock()),\n",
        "                  get_x=ColReader(0, pref=f'{path}/'),\n",
        "                  get_y=ColReader(1),\n",
        "                  splitter =RandomSplitter(),\n",
        "                  item_tfms = [CropPad(34),RandomCrop(28)],\n",
        "                  batch_tfms = [Normalize()],\n",
        "                  )\n",
        "dls = mnist.dataloaders(df)\n",
        "dls.show_batch(max_n=2)"
      ],
      "execution_count": 33,
      "outputs": [
        {
          "output_type": "display_data",
          "data": {
            "image/png": "[encoded data removed]",
            "text/plain": [
              "<Figure size 432x216 with 2 Axes>"
            ]
          },
          "metadata": {
            "tags": []
          }
        }
      ]
    },
    {
      "cell_type": "markdown",
      "metadata": {
        "id": "2MUrlHNC2bof",
        "colab_type": "text"
      },
      "source": [
        "This looks good. The answer is in ??DataBlock.  \n",
        "`blocks = L(b() if callable(b) else b for b in blocks)`"
      ]
    },
    {
      "cell_type": "markdown",
      "metadata": {
        "id": "-c-_yMdY4HcI",
        "colab_type": "text"
      },
      "source": [
        "3)What are the batch tranforms that are being applied?   \n",
        "We asked for `Normalize`. Let's check"
      ]
    },
    {
      "cell_type": "code",
      "metadata": {
        "id": "mPDL4vDA3klZ",
        "colab_type": "code",
        "colab": {
          "base_uri": "https://localhost:8080/",
          "height": 34
        },
        "outputId": "baa8cc3a-6bff-4692-9bce-2ff0259be01b"
      },
      "source": [
        "dls.train.after_batch"
      ],
      "execution_count": 56,
      "outputs": [
        {
          "output_type": "execute_result",
          "data": {
            "text/plain": [
              "Pipeline: IntToFloatTensor -> Normalize"
            ]
          },
          "metadata": {
            "tags": []
          },
          "execution_count": 56
        }
      ]
    },
    {
      "cell_type": "markdown",
      "metadata": {
        "id": "5twjohnI4i7x",
        "colab_type": "text"
      },
      "source": [
        "Rememeber what we saw in ??ImageBlock - `batch_tfms=IntToFloatTensor`.   \n",
        "That is being applied automatically for us.     \n",
        "So now replace ` batch_tfms = [Normalize()]` with ` batch_tfms = [IntToFloatTensor(),Normalize()]`. It should all be good.   \n",
        "But wait, didn't we apply `IntToFloatTensor`  twice ? Don't worry duplicates are removed look at `_merge_tfms` in `block.py`.    \n",
        "So the different `TransformBlocks`  may have different default type_tfms, item_tfms, batch_tfms. \n",
        "\n",
        "Similarly `ToTensor()` is applied automatically for `item_tfms`.   \n",
        "```\n",
        "        self.type_tfms  =            L(type_tfms)\n",
        "        self.item_tfms  = ToTensor + L(item_tfms)\n",
        "        self.batch_tfms =            L(batch_tfms)\n",
        "```"
      ]
    },
    {
      "cell_type": "markdown",
      "metadata": {
        "id": "8wE0gBE2ttGj",
        "colab_type": "text"
      },
      "source": [
        "## Now lets try the same thing with get_items"
      ]
    },
    {
      "cell_type": "code",
      "metadata": {
        "id": "My83ETpbrlNx",
        "colab_type": "code",
        "colab": {
          "base_uri": "https://localhost:8080/",
          "height": 199
        },
        "outputId": "56a7b7ad-c527-4b5c-f23c-585729f8ca94"
      },
      "source": [
        "def _mnist_items(x): \n",
        "  return (f'{path}/'+x.name,x.label)\n",
        "\n",
        "mnist = DataBlock.from_columns(blocks=(ImageBlock(cls=PILImageBW), CategoryBlock),\n",
        "                  get_items = _mnist_items,\n",
        "                  splitter =RandomSplitter(),\n",
        "                   )\n",
        "dls = mnist.dataloaders(df)\n",
        "dls.show_batch(max_n=2)"
      ],
      "execution_count": 62,
      "outputs": [
        {
          "output_type": "display_data",
          "data": {
            "image/png": "[encoded data removed]",
            "text/plain": [
              "<Figure size 432x216 with 2 Axes>"
            ]
          },
          "metadata": {
            "tags": []
          }
        }
      ]
    },
    {
      "cell_type": "markdown",
      "metadata": {
        "id": "clbKPaa7_lwm",
        "colab_type": "text"
      },
      "source": [
        "Note: i always forget the `from_columns` in `DataBlock.from_columns` \n"
      ]
    },
    {
      "cell_type": "markdown",
      "metadata": {
        "id": "AgOPt2taBjTs",
        "colab_type": "text"
      },
      "source": [
        "### What is `_mnist_items`, how to build it?"
      ]
    },
    {
      "cell_type": "markdown",
      "metadata": {
        "id": "UdNO90uaB7Lz",
        "colab_type": "text"
      },
      "source": [
        "We need a x and y to train. More specifically we need a Tuple ie (x,y).    \n",
        "We have to get this from our df.  \n",
        "Our x are image names in column 'name'.(we need the full path to grab the image from)   \n",
        "Our y are the labels in column 'labels'.  \n",
        "\n",
        "See what `_mnist_items(df)` gives you.   "
      ]
    },
    {
      "cell_type": "code",
      "metadata": {
        "id": "9Nw8K75n_GOV",
        "colab_type": "code",
        "colab": {}
      },
      "source": [
        "df.name, df.label"
      ],
      "execution_count": 0,
      "outputs": []
    },
    {
      "cell_type": "code",
      "metadata": {
        "id": "9SiZQXnIGyDW",
        "colab_type": "code",
        "colab": {
          "base_uri": "https://localhost:8080/",
          "height": 136
        },
        "outputId": "058b9996-ad9c-4718-cc42-e7dbe7984a5a"
      },
      "source": [
        "df.values"
      ],
      "execution_count": 87,
      "outputs": [
        {
          "output_type": "execute_result",
          "data": {
            "text/plain": [
              "array([['train/3/7463.png', 3],\n",
              "       ['train/3/9829.png', 3],\n",
              "       ['train/3/7881.png', 3],\n",
              "       ...,\n",
              "       ['valid/7/0.png', 7],\n",
              "       ['valid/7/8282.png', 7],\n",
              "       ['valid/7/7149.png', 7]], dtype=object)"
            ]
          },
          "metadata": {
            "tags": []
          },
          "execution_count": 87
        }
      ]
    },
    {
      "cell_type": "markdown",
      "metadata": {
        "id": "OsYoP-wKI2fI",
        "colab_type": "text"
      },
      "source": [
        "Explanation ..... TODO"
      ]
    },
    {
      "cell_type": "markdown",
      "metadata": {
        "id": "-IGG5ay6AXsj",
        "colab_type": "text"
      },
      "source": [
        "# Predict a list of numbers. \n",
        "(ImageBlock, RegressionBlock(c_out=4)   \n",
        "`(image_id,\t[healthy\tmultiple_diseases\trust\tscab])`.  \n",
        "Look at show_batch so see the particular case"
      ]
    },
    {
      "cell_type": "markdown",
      "metadata": {
        "id": "g5hj5JEiBIMM",
        "colab_type": "text"
      },
      "source": [
        "Here we deal with a single leaf image and we have to predict wether the leaf is healthy, has multiple diseases, has rust, has scab.   \n",
        "So one input image and 4 columns to predict.  \n",
        "In the [evaluation](https://www.kaggle.com/c/plant-pathology-2020-fgvc7/overview/evaluation) we have `For each image_id in the test set, you must predict a probability for each target variable. ` so we'll set it up as a regression problem.   \n",
        "The [data](https://www.kaggle.com/c/plant-pathology-2020-fgvc7/data) is available here.\n",
        "TODO: upload tiny data"
      ]
    },
    {
      "cell_type": "code",
      "metadata": {
        "id": "BrAxi2byEZSC",
        "colab_type": "code",
        "colab": {}
      },
      "source": [
        "path= '''drive/My Drive/kaggle/plant/''' "
      ],
      "execution_count": 0,
      "outputs": []
    },
    {
      "cell_type": "code",
      "metadata": {
        "button": false,
        "colab_type": "code",
        "deletable": true,
        "id": "qegxHGzdNS_r",
        "new_sheet": false,
        "run_control": {
          "read_only": false
        },
        "colab": {
          "base_uri": "https://localhost:8080/",
          "height": 111
        },
        "outputId": "465fdc73-0c1d-45d9-bb77-5d1b7432854d"
      },
      "source": [
        "train = pd.read_csv(path+'train.csv')\n",
        "train.head(2)"
      ],
      "execution_count": 113,
      "outputs": [
        {
          "output_type": "execute_result",
          "data": {
            "text/html": [
              "<div>\n",
              "<style scoped>\n",
              "    .dataframe tbody tr th:only-of-type {\n",
              "        vertical-align: middle;\n",
              "    }\n",
              "\n",
              "    .dataframe tbody tr th {\n",
              "        vertical-align: top;\n",
              "    }\n",
              "\n",
              "    .dataframe thead th {\n",
              "        text-align: right;\n",
              "    }\n",
              "</style>\n",
              "<table border=\"1\" class=\"dataframe\">\n",
              "  <thead>\n",
              "    <tr style=\"text-align: right;\">\n",
              "      <th></th>\n",
              "      <th>image_id</th>\n",
              "      <th>healthy</th>\n",
              "      <th>multiple_diseases</th>\n",
              "      <th>rust</th>\n",
              "      <th>scab</th>\n",
              "    </tr>\n",
              "  </thead>\n",
              "  <tbody>\n",
              "    <tr>\n",
              "      <th>0</th>\n",
              "      <td>Train_0</td>\n",
              "      <td>0</td>\n",
              "      <td>0</td>\n",
              "      <td>0</td>\n",
              "      <td>1</td>\n",
              "    </tr>\n",
              "    <tr>\n",
              "      <th>1</th>\n",
              "      <td>Train_1</td>\n",
              "      <td>0</td>\n",
              "      <td>1</td>\n",
              "      <td>0</td>\n",
              "      <td>0</td>\n",
              "    </tr>\n",
              "  </tbody>\n",
              "</table>\n",
              "</div>"
            ],
            "text/plain": [
              "  image_id  healthy  multiple_diseases  rust  scab\n",
              "0  Train_0        0                  0     0     1\n",
              "1  Train_1        0                  1     0     0"
            ]
          },
          "metadata": {
            "tags": []
          },
          "execution_count": 113
        }
      ]
    },
    {
      "cell_type": "markdown",
      "metadata": {
        "button": false,
        "colab_type": "text",
        "deletable": true,
        "id": "cGQMnI6vrVrT",
        "new_sheet": false,
        "run_control": {
          "read_only": false
        }
      },
      "source": [
        "We need to create a tuple is `(x,y)` for our model to train. So we'll create like this `(image_id,\t[healthy\tmultiple_diseases\trust\tscab])`Let's create a new column `combined` which is a list of the dependent variables. (This is not the only way to solve this problem)"
      ]
    },
    {
      "cell_type": "code",
      "metadata": {
        "button": false,
        "colab_type": "code",
        "deletable": true,
        "id": "QMc5-7FTITqB",
        "new_sheet": false,
        "outputId": "87c4cbab-2b3d-41af-ac4c-a992a815ae41",
        "run_control": {
          "read_only": false
        },
        "colab": {
          "base_uri": "https://localhost:8080/",
          "height": 111
        }
      },
      "source": [
        "train['combined'] = train[['healthy','multiple_diseases','rust','scab']].values.tolist()\n",
        "train.head(2)"
      ],
      "execution_count": 114,
      "outputs": [
        {
          "output_type": "execute_result",
          "data": {
            "text/html": [
              "<div>\n",
              "<style scoped>\n",
              "    .dataframe tbody tr th:only-of-type {\n",
              "        vertical-align: middle;\n",
              "    }\n",
              "\n",
              "    .dataframe tbody tr th {\n",
              "        vertical-align: top;\n",
              "    }\n",
              "\n",
              "    .dataframe thead th {\n",
              "        text-align: right;\n",
              "    }\n",
              "</style>\n",
              "<table border=\"1\" class=\"dataframe\">\n",
              "  <thead>\n",
              "    <tr style=\"text-align: right;\">\n",
              "      <th></th>\n",
              "      <th>image_id</th>\n",
              "      <th>healthy</th>\n",
              "      <th>multiple_diseases</th>\n",
              "      <th>rust</th>\n",
              "      <th>scab</th>\n",
              "      <th>combined</th>\n",
              "    </tr>\n",
              "  </thead>\n",
              "  <tbody>\n",
              "    <tr>\n",
              "      <th>0</th>\n",
              "      <td>Train_0</td>\n",
              "      <td>0</td>\n",
              "      <td>0</td>\n",
              "      <td>0</td>\n",
              "      <td>1</td>\n",
              "      <td>[0, 0, 0, 1]</td>\n",
              "    </tr>\n",
              "    <tr>\n",
              "      <th>1</th>\n",
              "      <td>Train_1</td>\n",
              "      <td>0</td>\n",
              "      <td>1</td>\n",
              "      <td>0</td>\n",
              "      <td>0</td>\n",
              "      <td>[0, 1, 0, 0]</td>\n",
              "    </tr>\n",
              "  </tbody>\n",
              "</table>\n",
              "</div>"
            ],
            "text/plain": [
              "  image_id  healthy  multiple_diseases  rust  scab      combined\n",
              "0  Train_0        0                  0     0     1  [0, 0, 0, 1]\n",
              "1  Train_1        0                  1     0     0  [0, 1, 0, 0]"
            ]
          },
          "metadata": {
            "tags": []
          },
          "execution_count": 114
        }
      ]
    },
    {
      "cell_type": "markdown",
      "metadata": {
        "id": "Fx-nMxqtR3kR",
        "colab_type": "text"
      },
      "source": [
        "### 'show_batch' fixes to show a list (not yet perect)\n",
        "For `show_batch` to work we need to add the ability for a list to have `show_title`"
      ]
    },
    {
      "cell_type": "code",
      "metadata": {
        "id": "hqdKFuGORutJ",
        "colab_type": "code",
        "colab": {}
      },
      "source": [
        "class TitledList(list, ShowTitle):\n",
        "    _show_args = {'label': 'text'}\n",
        "    def show(self, ctx=None, **kwargs):\n",
        "        \"Show self\"\n",
        "        return show_title(self, ctx=ctx, **merge(self._show_args, kwargs))"
      ],
      "execution_count": 0,
      "outputs": []
    },
    {
      "cell_type": "code",
      "metadata": {
        "id": "IMmB-bZRUGCs",
        "colab_type": "code",
        "colab": {}
      },
      "source": [
        "class ToListTensor(Transform):\n",
        "    \"Transform to int tensor\"\n",
        "    # order = 10 #Need to run after PIL transforms on the GPU\n",
        "    _show_args = {'label': 'text'}\n",
        "    def __init__(self, split_idx=None,):\n",
        "        super().__init__(split_idx=split_idx)\n",
        "\n",
        "    def encodes(self, o): return o\n",
        "    # def decodes(self, o): return TitledNumberShort(o)\n",
        "    def decodes(self, o): return TitledList(o)"
      ],
      "execution_count": 0,
      "outputs": []
    },
    {
      "cell_type": "markdown",
      "metadata": {
        "button": false,
        "colab_type": "text",
        "deletable": true,
        "id": "Ahzrvz4zrwTl",
        "new_sheet": false,
        "run_control": {
          "read_only": false
        }
      },
      "source": [
        "Independent variable is the image we'll use a ImageBlock.   \n",
        "Dependent varaible we'll use a RegressionBlock, here we need to set `c_out`.  \n",
        "And we add `ToListTensor` to the `get_y`"
      ]
    },
    {
      "cell_type": "code",
      "metadata": {
        "button": false,
        "colab_type": "code",
        "deletable": true,
        "id": "_txpIKGGnZgy",
        "new_sheet": false,
        "outputId": "cf155a6a-1b8d-42d5-ef50-ede126dd714e",
        "run_control": {
          "read_only": false
        },
        "colab": {
          "base_uri": "https://localhost:8080/",
          "height": 301
        }
      },
      "source": [
        "plant = DataBlock(blocks =(ImageBlock, RegressionBlock(c_out=4)),\n",
        "                  get_x = ColReader('image_id', pref=f'drive/My Drive/kaggle/plant/images/',suff='.jpg'),\n",
        "                  get_y = [ColReader('combined'),ToListTensor],\n",
        "                  splitter =RandomSplitter(),\n",
        "                  item_tfms=[Resize(150)],\n",
        "                  batch_tfms = [*aug_transforms()],\n",
        "                  )\n",
        "dls = plant.dataloaders(train)\n",
        "dls.show_batch(nrows=1,ncols=2,figsize=(10,10))"
      ],
      "execution_count": 116,
      "outputs": [
        {
          "output_type": "display_data",
          "data": {
            "image/png": "[encoded data removed]",
            "text/plain": [
              "<Figure size 720x720 with 2 Axes>"
            ]
          },
          "metadata": {
            "tags": []
          }
        }
      ]
    },
    {
      "cell_type": "markdown",
      "metadata": {
        "id": "MJEBPmR6GEN5",
        "colab_type": "text"
      },
      "source": [
        "I have a full pipeline here [here](https://github.com/muellerzr/Practical-Deep-Learning-for-Coders-2.0/blob/master/Computer%20Vision/06_Multi_Point_Regression.ipynb)"
      ]
    },
    {
      "cell_type": "markdown",
      "metadata": {
        "id": "4EuXhvq7J3O1",
        "colab_type": "text"
      },
      "source": [
        "# 4 channel input image    \n",
        "\n",
        "[Kaggle Competition](https://www.kaggle.com/c/human-protein-atlas-image-classification)   \n",
        "This was worked on by a group of us look here for the write-up - ????\n",
        "@akashpalrecha, @aman, @init_27 (am i missing anyone else please let me know)  "
      ]
    },
    {
      "cell_type": "markdown",
      "metadata": {
        "id": "TaE24sqoLUd8",
        "colab_type": "text"
      },
      "source": [
        "Each image in the dataset is a single channel black and white image.  \n",
        "We need to combine 4 of them to make a 4-channel image.   \n",
        "Given this 4-channel image we want to predict multiple categories.  \n",
        "\n",
        "We have:\n",
        "fname_red.png  \n",
        "fname_green.png  \n",
        "fname_blue.png   \n",
        "fname_yellow.png  \n",
        "This four need to be stacked to form one single 4-channeled image.  \n",
        "This gives a clear understanding of when to use get_items, get_x, get_y.\n"
      ]
    },
    {
      "cell_type": "code",
      "metadata": {
        "id": "eR7KFYA4AIuY",
        "colab_type": "code",
        "colab": {}
      },
      "source": [
        "data_path = Path('/storage/data/atlas/train')\n",
        "files = get_image_files(data_path)"
      ],
      "execution_count": 0,
      "outputs": []
    },
    {
      "cell_type": "code",
      "metadata": {
        "id": "qm-NmuehJWIE",
        "colab_type": "code",
        "colab": {}
      },
      "source": [
        "def custom_get(path):#files are in sets of four\n",
        "    files = get_image_files(path)\n",
        "    files = sorted(files)\n",
        "    return files[slice(0, len(files), 4)]"
      ],
      "execution_count": 0,
      "outputs": []
    },
    {
      "cell_type": "code",
      "metadata": {
        "id": "gQj5xU2cJWE_",
        "colab_type": "code",
        "colab": {}
      },
      "source": [
        "def comb_4img(fname):#combine four 1-channel image to get one 4-channel image\n",
        "    fname = str(fname)\n",
        "    suffix = '.png'\n",
        "\n",
        "    if fname.endswith('.png') or fname.endswith('.tif'):\n",
        "        suffix = fname[-4:]\n",
        "        fname = fname.split('_')[0]\n",
        "\n",
        "    colors = ['red','green','blue','yellow']\n",
        "    img = [Image.open(fname+'_'+color+suffix) for color in colors]\n",
        "    \n",
        "    x = np.stack(img, axis=-1)\n",
        "    return PILImage.create(x)"
      ],
      "execution_count": 0,
      "outputs": []
    },
    {
      "cell_type": "code",
      "metadata": {
        "id": "MrOvmYccJWBe",
        "colab_type": "code",
        "colab": {}
      },
      "source": [
        "df = pd.read_csv(\"../data/atlas/train.csv\")\n",
        "df.set_index(\"Id\", inplace=True)\n",
        "\n",
        "def get_y(path, df=df):\n",
        "    path = Path(path)\n",
        "    path = path.stem\n",
        "    path = path[:-5]\n",
        "    return df.loc[path].values[0].split(\" \")"
      ],
      "execution_count": 0,
      "outputs": []
    },
    {
      "cell_type": "code",
      "metadata": {
        "id": "LgUENJ1qJV97",
        "colab_type": "code",
        "colab": {}
      },
      "source": [
        "atlas = DataBlock(blocks=(ImageBlock, MultiCategoryBlock),\n",
        "                  get_items=custom_get, \n",
        "                  get_x=comb_4img,\n",
        "                  get_y=get_y\n",
        "                 )\n",
        "dls = atlas.dataloaders(data_path,bs=2)\n",
        "dls.show_batch()"
      ],
      "execution_count": 0,
      "outputs": []
    },
    {
      "cell_type": "code",
      "metadata": {
        "id": "whM1PXb5ADgR",
        "colab_type": "code",
        "colab": {}
      },
      "source": [
        "getters example "
      ],
      "execution_count": 0,
      "outputs": []
    },
    {
      "cell_type": "code",
      "metadata": {
        "id": "P-uspmBnAxO-",
        "colab_type": "code",
        "colab": {}
      },
      "source": [
        "SO we need a get_items to get the files, get_x, get_y for (x,y).   \n",
        "Some times no get_x, why ?   what happens if you add get_x to that mnist_tiny example"
      ],
      "execution_count": 0,
      "outputs": []
    },
    {
      "cell_type": "code",
      "metadata": {
        "id": "okQzHSYbg6ch",
        "colab_type": "code",
        "colab": {}
      },
      "source": [
        ""
      ],
      "execution_count": 0,
      "outputs": []
    },
    {
      "cell_type": "code",
      "metadata": {
        "id": "WuelhFFog6ag",
        "colab_type": "code",
        "colab": {}
      },
      "source": [
        ""
      ],
      "execution_count": 0,
      "outputs": []
    },
    {
      "cell_type": "code",
      "metadata": {
        "id": "wBJyBkf5g6XI",
        "colab_type": "code",
        "colab": {}
      },
      "source": [
        ""
      ],
      "execution_count": 0,
      "outputs": []
    },
    {
      "cell_type": "code",
      "metadata": {
        "id": "nGUzOJ3tg6UU",
        "colab_type": "code",
        "colab": {}
      },
      "source": [
        ""
      ],
      "execution_count": 0,
      "outputs": []
    },
    {
      "cell_type": "code",
      "metadata": {
        "id": "YBLiMFPXg6RV",
        "colab_type": "code",
        "colab": {}
      },
      "source": [
        ""
      ],
      "execution_count": 0,
      "outputs": []
    },
    {
      "cell_type": "code",
      "metadata": {
        "id": "4ZNjorpwg6OR",
        "colab_type": "code",
        "colab": {}
      },
      "source": [
        ""
      ],
      "execution_count": 0,
      "outputs": []
    },
    {
      "cell_type": "markdown",
      "metadata": {
        "id": "FGXWTBn1g6Lk",
        "colab_type": "text"
      },
      "source": [
        "## 1-ch vs 3-ch "
      ]
    },
    {
      "cell_type": "code",
      "metadata": {
        "id": "gWmklt9Sg6IW",
        "colab_type": "code",
        "colab": {
          "base_uri": "https://localhost:8080/",
          "height": 54
        },
        "outputId": "21dbe387-b98b-4946-fe67-1b4d59876caa"
      },
      "source": [
        "fn"
      ],
      "execution_count": 126,
      "outputs": [
        {
          "output_type": "execute_result",
          "data": {
            "text/plain": [
              "(#1428) [Path('/root/.fastai/data/mnist_tiny/train/3/9153.png'),Path('/root/.fastai/data/mnist_tiny/train/3/9324.png'),Path('/root/.fastai/data/mnist_tiny/train/3/8830.png'),Path('/root/.fastai/data/mnist_tiny/train/3/9621.png'),Path('/root/.fastai/data/mnist_tiny/train/3/7862.png'),Path('/root/.fastai/data/mnist_tiny/train/3/8075.png'),Path('/root/.fastai/data/mnist_tiny/train/3/8816.png'),Path('/root/.fastai/data/mnist_tiny/train/3/8227.png'),Path('/root/.fastai/data/mnist_tiny/train/3/715.png'),Path('/root/.fastai/data/mnist_tiny/train/3/7067.png')...]"
            ]
          },
          "metadata": {
            "tags": []
          },
          "execution_count": 126
        }
      ]
    },
    {
      "cell_type": "code",
      "metadata": {
        "id": "Ys8fx0wucBM_",
        "colab_type": "code",
        "colab": {
          "base_uri": "https://localhost:8080/",
          "height": 83,
          "referenced_widgets": [
            "bed8147a1f0a4ddcbb5d46d5f8a778b7",
            "27702d382dcb4feca45ade6efac024d1",
            "6749a211310c4ff5ac0d767bacf1342a",
            "7137504660da47faacb76ac0437c0857",
            "1795d40615194facaa1c67852b6611ff",
            "82c24e370aff4425ab2b5cadffd94a6e",
            "c1d4ff4a1de345868d51d7faa701ed0a",
            "01c89d4f76704ab4b9813d726b4e66a9"
          ]
        },
        "outputId": "e944cbbb-24e8-4f1e-f894-309561f93904"
      },
      "source": [
        "net = resnet18(pretrained=True,)"
      ],
      "execution_count": 127,
      "outputs": [
        {
          "output_type": "stream",
          "text": [
            "Downloading: \"https://download.pytorch.org/models/resnet18-5c106cde.pth\" to /root/.cache/torch/checkpoints/resnet18-5c106cde.pth\n"
          ],
          "name": "stderr"
        },
        {
          "output_type": "display_data",
          "data": {
            "application/vnd.jupyter.widget-view+json": {
              "model_id": "bed8147a1f0a4ddcbb5d46d5f8a778b7",
              "version_minor": 0,
              "version_major": 2
            },
            "text/plain": [
              "HBox(children=(IntProgress(value=0, max=46827520), HTML(value='')))"
            ]
          },
          "metadata": {
            "tags": []
          }
        },
        {
          "output_type": "stream",
          "text": [
            "\n"
          ],
          "name": "stdout"
        }
      ]
    },
    {
      "cell_type": "code",
      "metadata": {
        "id": "kZgl0o2u16xX",
        "colab_type": "code",
        "colab": {
          "base_uri": "https://localhost:8080/",
          "height": 34
        },
        "outputId": "682c2179-930f-485d-b960-cc50e2deb035"
      },
      "source": [
        "net.conv1.weight.shape"
      ],
      "execution_count": 131,
      "outputs": [
        {
          "output_type": "execute_result",
          "data": {
            "text/plain": [
              "torch.Size([64, 3, 7, 7])"
            ]
          },
          "metadata": {
            "tags": []
          },
          "execution_count": 131
        }
      ]
    },
    {
      "cell_type": "code",
      "metadata": {
        "id": "om6Vf-J1180Q",
        "colab_type": "code",
        "colab": {}
      },
      "source": [
        ""
      ],
      "execution_count": 0,
      "outputs": []
    }
  ]
}